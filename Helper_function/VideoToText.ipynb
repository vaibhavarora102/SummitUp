{
 "cells": [
  {
   "cell_type": "code",
   "execution_count": 2,
   "metadata": {},
   "outputs": [
    {
     "name": "stderr",
     "output_type": "stream",
     "text": [
      "/home/vaibhav/anaconda3/lib/python3.8/site-packages/pydub/utils.py:170: RuntimeWarning: Couldn't find ffmpeg or avconv - defaulting to ffmpeg, but may not work\n",
      "  warn(\"Couldn't find ffmpeg or avconv - defaulting to ffmpeg, but may not work\", RuntimeWarning)\n"
     ]
    }
   ],
   "source": [
    "import os\n",
    "import speech_recognition as sr\n",
    "import ffmpeg\n",
    "from pydub import AudioSegment\n",
    "import moviepy.editor \n",
    "import speech_recognition as sr"
   ]
  },
  {
   "cell_type": "code",
   "execution_count": 3,
   "metadata": {},
   "outputs": [],
   "source": [
    "VideoUrl= \"https://www.youtube.com/watch?v=2fXQvy0kFak\"\n",
    "LocalLink = r\"/home/vaibhav/Documents/hackathons/techathonLPU/Tech-A-Thon_LPU/DemoData/Videoes/devops.mp4\"\n",
    "\n",
    "src = \"../DemoData/Videoes/devops.mp4\"\n",
    "dst = \"../DemoData/Videoes/\""
   ]
  },
  {
   "cell_type": "code",
   "execution_count": 5,
   "metadata": {},
   "outputs": [
    {
     "name": "stderr",
     "output_type": "stream",
     "text": [
      "chunk:   0%|          | 29/8676 [05:49<28:56:19, 12.05s/it, now=None]\n",
      "chunk:   0%|          | 0/8676 [00:00<?, ?it/s, now=None]\u001b[A\n",
      "chunk:   2%|▏         | 188/8676 [00:00<00:04, 1878.40it/s, now=None]\u001b[A"
     ]
    },
    {
     "name": "stdout",
     "output_type": "stream",
     "text": [
      "MoviePy - Writing audio in /home/vaibhav/Documents/hackathons/techathonLPU/Tech-A-Thon_LPU/DemoData/Videoes/devops.wav\n"
     ]
    },
    {
     "name": "stderr",
     "output_type": "stream",
     "text": [
      "\n",
      "chunk:   5%|▍         | 393/8676 [00:00<00:04, 1924.61it/s, now=None]\u001b[A\n",
      "chunk:   7%|▋         | 596/8676 [00:00<00:04, 1954.49it/s, now=None]\u001b[A\n",
      "chunk:   9%|▉         | 807/8676 [00:00<00:03, 1998.05it/s, now=None]\u001b[A\n",
      "chunk:  12%|█▏        | 1017/8676 [00:00<00:03, 2026.93it/s, now=None]\u001b[A\n",
      "chunk:  14%|█▍        | 1224/8676 [00:00<00:03, 2027.06it/s, now=None]\u001b[A\n",
      "chunk:  16%|█▋        | 1428/8676 [00:00<00:03, 2012.70it/s, now=None]\u001b[A\n",
      "chunk:  19%|█▉        | 1661/8676 [00:00<00:03, 2098.23it/s, now=None]\u001b[A\n",
      "chunk:  21%|██▏       | 1862/8676 [00:00<00:03, 2058.15it/s, now=None]\u001b[A\n",
      "chunk:  24%|██▍       | 2072/8676 [00:01<00:03, 2069.91it/s, now=None]\u001b[A\n",
      "chunk:  26%|██▌       | 2275/8676 [00:01<00:03, 2040.23it/s, now=None]\u001b[A\n",
      "chunk:  29%|██▉       | 2498/8676 [00:01<00:02, 2091.81it/s, now=None]\u001b[A\n",
      "chunk:  31%|███       | 2706/8676 [00:01<00:02, 2004.73it/s, now=None]\u001b[A\n",
      "chunk:  34%|███▎      | 2907/8676 [00:01<00:02, 1992.96it/s, now=None]\u001b[A\n",
      "chunk:  36%|███▌      | 3111/8676 [00:01<00:02, 1993.60it/s, now=None]\u001b[A\n",
      "chunk:  38%|███▊      | 3327/8676 [00:01<00:02, 2040.29it/s, now=None]\u001b[A\n",
      "chunk:  41%|████      | 3549/8676 [00:01<00:02, 2090.52it/s, now=None]\u001b[A\n",
      "chunk:  43%|████▎     | 3766/8676 [00:01<00:02, 2112.79it/s, now=None]\u001b[A\n",
      "chunk:  46%|████▌     | 3978/8676 [00:01<00:02, 2057.33it/s, now=None]\u001b[A\n",
      "chunk:  48%|████▊     | 4188/8676 [00:02<00:02, 2068.67it/s, now=None]\u001b[A\n",
      "chunk:  51%|█████     | 4405/8676 [00:02<00:02, 2096.62it/s, now=None]\u001b[A\n",
      "chunk:  53%|█████▎    | 4618/8676 [00:02<00:01, 2105.66it/s, now=None]\u001b[A\n",
      "chunk:  56%|█████▌    | 4829/8676 [00:02<00:01, 2085.55it/s, now=None]\u001b[A\n",
      "chunk:  58%|█████▊    | 5043/8676 [00:02<00:01, 2099.82it/s, now=None]\u001b[A\n",
      "chunk:  61%|██████    | 5254/8676 [00:02<00:01, 2064.64it/s, now=None]\u001b[A\n",
      "chunk:  63%|██████▎   | 5461/8676 [00:02<00:01, 2059.64it/s, now=None]\u001b[A\n",
      "chunk:  65%|██████▌   | 5668/8676 [00:02<00:01, 1998.41it/s, now=None]\u001b[A\n",
      "chunk:  68%|██████▊   | 5873/8676 [00:02<00:01, 2012.22it/s, now=None]\u001b[A\n",
      "chunk:  70%|███████   | 6085/8676 [00:02<00:01, 2041.82it/s, now=None]\u001b[A\n",
      "chunk:  73%|███████▎  | 6323/8676 [00:03<00:01, 2131.94it/s, now=None]\u001b[A\n",
      "chunk:  75%|███████▌  | 6538/8676 [00:03<00:01, 2122.98it/s, now=None]\u001b[A\n",
      "chunk:  78%|███████▊  | 6762/8676 [00:03<00:00, 2156.72it/s, now=None]\u001b[A\n",
      "chunk:  81%|████████  | 6987/8676 [00:03<00:00, 2155.71it/s, now=None]\u001b[A\n",
      "chunk:  83%|████████▎ | 7204/8676 [00:03<00:00, 2150.52it/s, now=None]\u001b[A\n",
      "chunk:  86%|████████▌ | 7446/8676 [00:03<00:00, 2197.79it/s, now=None]\u001b[A\n",
      "chunk:  88%|████████▊ | 7667/8676 [00:03<00:00, 2189.05it/s, now=None]\u001b[A\n",
      "chunk:  91%|█████████ | 7887/8676 [00:03<00:00, 2132.51it/s, now=None]\u001b[A\n",
      "chunk:  93%|█████████▎| 8104/8676 [00:03<00:00, 2142.11it/s, now=None]\u001b[A\n",
      "chunk:  96%|█████████▌| 8326/8676 [00:03<00:00, 2164.28it/s, now=None]\u001b[A\n",
      "chunk:  98%|█████████▊| 8543/8676 [00:04<00:00, 1987.04it/s, now=None]\u001b[A\n",
      "chunk:   0%|          | 29/8676 [05:53<29:17:16, 12.19s/it, now=None] \u001b[A"
     ]
    },
    {
     "name": "stdout",
     "output_type": "stream",
     "text": [
      "MoviePy - Done.\n",
      "Completed!\n"
     ]
    }
   ],
   "source": [
    "video = moviepy.editor.VideoFileClip(src)\n",
    "audio = video.audio\n",
    "\n",
    "audio.write_audiofile(\"/home/vaibhav/Documents/hackathons/techathonLPU/Tech-A-Thon_LPU/DemoData/Videoes/devops.wav\")\n",
    "print(\"Completed!\")"
   ]
  },
  {
   "cell_type": "code",
   "execution_count": 64,
   "metadata": {},
   "outputs": [],
   "source": [
    "file = \"../DemoData/Videoes/sample.wav\"\n",
    "def normalization(file):\n",
    "    \n",
    "    rawsound = AudioSegment.from_file(file, \"wav\")\n",
    "    normalizedsound = effects.normalize(rawsound)\n",
    "    normalizedsound.export(\"../DemoData/Videoes/sample.wav\", format=\"wav\")\n",
    "    print(\"normalized recording saved as normalized.wav \\n\")"
   ]
  },
  {
   "cell_type": "code",
   "execution_count": 46,
   "metadata": {},
   "outputs": [],
   "source": [
    "r = sr.Recognizer()"
   ]
  },
  {
   "cell_type": "code",
   "execution_count": 47,
   "metadata": {},
   "outputs": [
    {
     "name": "stdout",
     "output_type": "stream",
     "text": [
      "waiting1\n",
      "sorry\n"
     ]
    }
   ],
   "source": [
    "with sr.AudioFile(\"../DemoData/Videoes/sample.wav\") as source:\n",
    "    audio = r.listen(source)\n",
    "    try:\n",
    "        print(\"waiting1\")\n",
    "        text = r.recognize_google(audio)\n",
    "        print(\"waiting\")\n",
    "        print(text)\n",
    "    except:\n",
    "        print(\"sorry\")"
   ]
  },
  {
   "cell_type": "code",
   "execution_count": 53,
   "metadata": {},
   "outputs": [],
   "source": [
    "# import requests\n",
    "# import json\n",
    "\n",
    "# url = 'https://sentyectorapi.herokuapp.com/api/audiochunktotext/'\n",
    "# files={'file':open(\"../DemoData/Videoes/sample.wav\",'rb')}\n",
    "# r = requests.post(url, files = files)\n",
    "\n",
    "import os\n",
    "import re\n",
    "import speech_recognition as sr\n",
    "from sys import argv\n",
    "from pydub import AudioSegment, effects\n",
    "from pydub.silence import split_on_silence\n",
    "\n",
    "# print(r.text)"
   ]
  },
  {
   "cell_type": "code",
   "execution_count": 56,
   "metadata": {},
   "outputs": [],
   "source": [
    "import os\n",
    "import re\n",
    "import speech_recognition as sr\n",
    "from sys import argv\n",
    "from pydub import AudioSegment, effects\n",
    "from pydub.silence import split_on_silence\n",
    "\n",
    "\n",
    "def normalization(file):\n",
    "    # file = r'C:\\Users\\Sairish\\Downloads\\myrecord.wav'\n",
    "    rawsound = AudioSegment.from_file(file, \"wav\")\n",
    "    normalizedsound = effects.normalize(rawsound)\n",
    "    normalizedsound.export(\"normalized.wav\", format=\"wav\")\n",
    "    print(\"normalized recording saved as normalized.wav \\n\")\n",
    "def speechToTextModule(lang=\"en-in\"):\n",
    "    song = AudioSegment.from_wav(\"normalized.wav\")\n",
    "\n",
    "    # spliting audio into chunks with parameter as silence of 1.2 seconds\n",
    "    chunks = split_on_silence(song,\n",
    "                              # must be silent for at least 1.2 seconds\n",
    "                              min_silence_len=1200,\n",
    "                              # consider it silent if quieter than -50 dBFS\n",
    "                              silence_thresh=-50\n",
    "                              )\n",
    "\n",
    "    # creating a directory to store the audio chunks.\n",
    "    try:\n",
    "        os.mkdir('audio_chunks')\n",
    "    except(FileExistsError):\n",
    "        pass\n",
    "\n",
    "    print(\"folder created for storing the chunks of audio file \\n\")\n",
    "\n",
    "    os.chdir('audio_chunks')\n",
    "\n",
    "    i = 0\n",
    "    # processing  each chunk\n",
    "    for chunk in chunks:\n",
    "        # Create 0.5 seconds silence chunk\n",
    "        chunk_silent = AudioSegment.silent(duration=10)\n",
    "        audio_chunk = chunk_silent + chunk + chunk_silent\n",
    "\n",
    "        # export audio chunk and save it in the current directory.\n",
    "        print(\"saving chunk{0}.wav\".format(i))\n",
    "\n",
    "        # specify the bitrate to be 192 k\n",
    "        audio_chunk.export(\"./chunk{0}.wav\".format(i), bitrate='192k', format=\"wav\")\n",
    "\n",
    "        # the name of the newly created chunk\n",
    "        filename = 'chunk' + str(i) + '.wav'\n",
    "\n",
    "        print(\"Processing chunk \" + str(i))\n",
    "\n",
    "        # get the name of the newly created chunk\n",
    "        # in the AUDIO_FILE variable for later use.\n",
    "        file = filename\n",
    "        # create a speech recognition object\n",
    "        r = sr.Recognizer()\n",
    "        # recognize the chunk\n",
    "        with sr.AudioFile(file) as source:\n",
    "            r.pause_threshhold = 1\n",
    "            r.energy_threshold = 7000\n",
    "            audio_listened = r.listen(source)\n",
    "            # below could be used in case above three lines are not giving good results\n",
    "            # r.adjust_for_ambient_noise(source)\n",
    "            # audio_listened = r.listen(source)\n",
    "        try:\n",
    "            # try converting it to text by specifying the language\n",
    "            rec = r.recognize_google(audio_listened, language=lang)\n",
    "            # print recognised input\n",
    "            return rec\n",
    "            # catch any errors.\n",
    "        except sr.UnknownValueError:\n",
    "            return \"Could not understand audio\"\n",
    "        except sr.RequestError as e:\n",
    "            return \"no internet connection or access\"\n",
    "        i += 1\n",
    "    os.chdir('..')\n"
   ]
  },
  {
   "cell_type": "code",
   "execution_count": 57,
   "metadata": {},
   "outputs": [
    {
     "name": "stdout",
     "output_type": "stream",
     "text": [
      "normalized recording saved as normalized.wav \n",
      "\n",
      "folder created for storing the chunks of audio file \n",
      "\n",
      "saving chunk0.wav\n",
      "Processing chunk 0\n"
     ]
    }
   ],
   "source": [
    "file = \"../DemoData/Videoes/sample.wav\"\n",
    "normalization(file)\n",
    "response = speechToTextModule()"
   ]
  },
  {
   "cell_type": "code",
   "execution_count": 58,
   "metadata": {},
   "outputs": [
    {
     "data": {
      "text/plain": [
       "'no internet connection or access'"
      ]
     },
     "execution_count": 58,
     "metadata": {},
     "output_type": "execute_result"
    }
   ],
   "source": [
    "response"
   ]
  },
  {
   "cell_type": "code",
   "execution_count": null,
   "metadata": {},
   "outputs": [],
   "source": []
  }
 ],
 "metadata": {
  "kernelspec": {
   "display_name": "Python 3",
   "language": "python",
   "name": "python3"
  },
  "language_info": {
   "codemirror_mode": {
    "name": "ipython",
    "version": 3
   },
   "file_extension": ".py",
   "mimetype": "text/x-python",
   "name": "python",
   "nbconvert_exporter": "python",
   "pygments_lexer": "ipython3",
   "version": "3.8.5"
  }
 },
 "nbformat": 4,
 "nbformat_minor": 4
}
