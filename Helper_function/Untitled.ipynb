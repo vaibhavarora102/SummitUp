{
 "cells": [
  {
   "cell_type": "code",
   "execution_count": 8,
   "metadata": {},
   "outputs": [
    {
     "ename": "TypeError",
     "evalue": "'Summarizer' object is not callable",
     "output_type": "error",
     "traceback": [
      "\u001b[0;31m---------------------------------------------------------------------------\u001b[0m",
      "\u001b[0;31mTypeError\u001b[0m                                 Traceback (most recent call last)",
      "\u001b[0;32m<ipython-input-8-713f79a036da>\u001b[0m in \u001b[0;36m<module>\u001b[0;34m\u001b[0m\n\u001b[1;32m      8\u001b[0m \u001b[0;34m\u001b[0m\u001b[0m\n\u001b[1;32m      9\u001b[0m \u001b[0;34m\u001b[0m\u001b[0m\n\u001b[0;32m---> 10\u001b[0;31m print(textSumamryPredictor('''Science in Everyday Life\n\u001b[0m\u001b[1;32m     11\u001b[0m \u001b[0mScience\u001b[0m \u001b[0;32mis\u001b[0m \u001b[0ma\u001b[0m \u001b[0mgreat\u001b[0m \u001b[0mblessing\u001b[0m \u001b[0mto\u001b[0m \u001b[0mmankind\u001b[0m\u001b[0;34m.\u001b[0m \u001b[0mNothing\u001b[0m \u001b[0mbetter\u001b[0m \u001b[0mhas\u001b[0m \u001b[0mhappened\u001b[0m \u001b[0;32min\u001b[0m \u001b[0mthe\u001b[0m \u001b[0mhistory\u001b[0m \u001b[0mof\u001b[0m \u001b[0mman\u001b[0m \u001b[0mthan\u001b[0m \u001b[0madvent\u001b[0m \u001b[0mof\u001b[0m \u001b[0mscience\u001b[0m \u001b[0;32min\u001b[0m \u001b[0mhuman\u001b[0m \u001b[0mlife\u001b[0m\u001b[0;34m.\u001b[0m \u001b[0mThe\u001b[0m \u001b[0mworld\u001b[0m \u001b[0minto\u001b[0m \u001b[0mwhich\u001b[0m \u001b[0mscience\u001b[0m \u001b[0mcame\u001b[0m \u001b[0mwas\u001b[0m \u001b[0ma\u001b[0m \u001b[0mworld\u001b[0m \u001b[0mof\u001b[0m \u001b[0mignorance\u001b[0m\u001b[0;34m,\u001b[0m \u001b[0msuffering\u001b[0m \u001b[0;32mand\u001b[0m \u001b[0mhardship\u001b[0m\u001b[0;34m.\u001b[0m \u001b[0mScience\u001b[0m \u001b[0mhas\u001b[0m \u001b[0mcome\u001b[0m \u001b[0mto\u001b[0m \u001b[0mrelieve\u001b[0m \u001b[0mus\u001b[0m \u001b[0mto\u001b[0m \u001b[0msufferings\u001b[0m\u001b[0;34m,\u001b[0m \u001b[0mto\u001b[0m \u001b[0mremove\u001b[0m \u001b[0mour\u001b[0m \u001b[0mignorance\u001b[0m \u001b[0;32mand\u001b[0m \u001b[0mto\u001b[0m \u001b[0mlighter\u001b[0m \u001b[0mour\u001b[0m \u001b[0mtoil\u001b[0m\u001b[0;34m.\u001b[0m\u001b[0;34m\u001b[0m\u001b[0;34m\u001b[0m\u001b[0m\n\u001b[1;32m     12\u001b[0m \u001b[0mScience\u001b[0m \u001b[0;32mis\u001b[0m \u001b[0ma\u001b[0m \u001b[0mfaithful\u001b[0m \u001b[0mservant\u001b[0m \u001b[0mof\u001b[0m \u001b[0mman\u001b[0m\u001b[0;34m.\u001b[0m \u001b[0mIt\u001b[0m \u001b[0mserves\u001b[0m \u001b[0mus\u001b[0m \u001b[0;32min\u001b[0m \u001b[0mall\u001b[0m \u001b[0mwalks\u001b[0m \u001b[0mof\u001b[0m \u001b[0mlife\u001b[0m\u001b[0;34m.\u001b[0m \u001b[0mIt\u001b[0m \u001b[0;32mis\u001b[0m \u001b[0mour\u001b[0m \u001b[0mservant\u001b[0m \u001b[0;32min\u001b[0m \u001b[0mthe\u001b[0m \u001b[0mhome\u001b[0m\u001b[0;34m,\u001b[0m \u001b[0;32min\u001b[0m \u001b[0mthe\u001b[0m \u001b[0mfield\u001b[0m \u001b[0;32mand\u001b[0m \u001b[0;32min\u001b[0m \u001b[0mthe\u001b[0m \u001b[0mfactory\u001b[0m\u001b[0;34m.\u001b[0m \u001b[0mScience\u001b[0m \u001b[0mhas\u001b[0m \u001b[0mtransformed\u001b[0m \u001b[0mour\u001b[0m \u001b[0mdaily\u001b[0m \u001b[0mlife\u001b[0m\u001b[0;34m.\u001b[0m \u001b[0mGone\u001b[0m \u001b[0mare\u001b[0m \u001b[0mthe\u001b[0m \u001b[0mdays\u001b[0m \u001b[0mwhen\u001b[0m \u001b[0monly\u001b[0m \u001b[0mthe\u001b[0m \u001b[0mrich\u001b[0m \u001b[0mmen\u001b[0m \u001b[0mcould\u001b[0m \u001b[0mafford\u001b[0m \u001b[0mluxuries\u001b[0m\u001b[0;34m.\u001b[0m \u001b[0mScience\u001b[0m \u001b[0mhas\u001b[0m \u001b[0mmade\u001b[0m \u001b[0mthem\u001b[0m \u001b[0mcheap\u001b[0m \u001b[0;32mand\u001b[0m \u001b[0mhas\u001b[0m \u001b[0mbrought\u001b[0m \u001b[0mthem\u001b[0m \u001b[0mwithin\u001b[0m \u001b[0mthe\u001b[0m \u001b[0mreach\u001b[0m \u001b[0mof\u001b[0m \u001b[0meverybody\u001b[0m\u001b[0;34m.\u001b[0m \u001b[0mScience\u001b[0m \u001b[0mhas\u001b[0m \u001b[0mproduced\u001b[0m \u001b[0mgoods\u001b[0m \u001b[0mon\u001b[0m \u001b[0ma\u001b[0m \u001b[0mlarge\u001b[0m \u001b[0mmarket\u001b[0m\u001b[0;34m.\u001b[0m \u001b[0mThese\u001b[0m \u001b[0mare\u001b[0m \u001b[0msold\u001b[0m \u001b[0mat\u001b[0m \u001b[0mcheap\u001b[0m \u001b[0mrates\u001b[0m \u001b[0;32min\u001b[0m \u001b[0mevery\u001b[0m \u001b[0mmarket\u001b[0m\u001b[0;34m.\u001b[0m \u001b[0mBooks\u001b[0m\u001b[0;34m,\u001b[0m \u001b[0mmusic\u001b[0m \u001b[0;32mand\u001b[0m \u001b[0mall\u001b[0m \u001b[0mother\u001b[0m \u001b[0mforms\u001b[0m \u001b[0mof\u001b[0m \u001b[0mentertainment\u001b[0m \u001b[0mhave\u001b[0m \u001b[0mbeen\u001b[0m \u001b[0mbrought\u001b[0m \u001b[0mto\u001b[0m \u001b[0mour\u001b[0m \u001b[0mdoor\u001b[0m\u001b[0;34m.\u001b[0m \u001b[0mRadio\u001b[0m\u001b[0;34m,\u001b[0m \u001b[0mtelevision\u001b[0m\u001b[0;34m,\u001b[0m \u001b[0mcinema\u001b[0m \u001b[0mhelp\u001b[0m \u001b[0mus\u001b[0m \u001b[0;32min\u001b[0m \u001b[0mpassing\u001b[0m \u001b[0mour\u001b[0m \u001b[0mtime\u001b[0m \u001b[0;32mand\u001b[0m \u001b[0malso\u001b[0m \u001b[0mprovide\u001b[0m \u001b[0meducation\u001b[0m \u001b[0mto\u001b[0m \u001b[0mus\u001b[0m\u001b[0;34m.\u001b[0m\u001b[0;34m\u001b[0m\u001b[0;34m\u001b[0m\u001b[0m\n",
      "\u001b[0;32m<ipython-input-8-713f79a036da>\u001b[0m in \u001b[0;36mtextSumamryPredictor\u001b[0;34m(text)\u001b[0m\n\u001b[1;32m      3\u001b[0m \u001b[0;34m\u001b[0m\u001b[0m\n\u001b[1;32m      4\u001b[0m \u001b[0;32mdef\u001b[0m \u001b[0mtextSumamryPredictor\u001b[0m\u001b[0;34m(\u001b[0m\u001b[0mtext\u001b[0m\u001b[0;34m)\u001b[0m\u001b[0;34m:\u001b[0m\u001b[0;34m\u001b[0m\u001b[0;34m\u001b[0m\u001b[0m\n\u001b[0;32m----> 5\u001b[0;31m     \u001b[0mresult\u001b[0m \u001b[0;34m=\u001b[0m \u001b[0mmodel\u001b[0m\u001b[0;34m(\u001b[0m\u001b[0mtext\u001b[0m\u001b[0;34m)\u001b[0m\u001b[0;34m\u001b[0m\u001b[0;34m\u001b[0m\u001b[0m\n\u001b[0m\u001b[1;32m      6\u001b[0m     \u001b[0mfull\u001b[0m \u001b[0;34m=\u001b[0m \u001b[0;34m''\u001b[0m\u001b[0;34m.\u001b[0m\u001b[0mjoin\u001b[0m\u001b[0;34m(\u001b[0m\u001b[0mresult\u001b[0m\u001b[0;34m)\u001b[0m\u001b[0;34m\u001b[0m\u001b[0;34m\u001b[0m\u001b[0m\n\u001b[1;32m      7\u001b[0m     \u001b[0;32mreturn\u001b[0m \u001b[0mfull\u001b[0m\u001b[0;34m\u001b[0m\u001b[0;34m\u001b[0m\u001b[0m\n",
      "\u001b[0;31mTypeError\u001b[0m: 'Summarizer' object is not callable"
     ]
    }
   ],
   "source": [
    "from summarizer import Summarizer\n",
    "model = Summarizer()\n",
    "\n",
    "def textSumamryPredictor(text):\n",
    "    result = model(text)\n",
    "    full = ''.join(result)\n",
    "    return full\n",
    "\n",
    "\n",
    "print(textSumamryPredictor('''Science in Everyday Life\n",
    "Science is a great blessing to mankind. Nothing better has happened in the history of man than advent of science in human life. The world into which science came was a world of ignorance, suffering and hardship. Science has come to relieve us to sufferings, to remove our ignorance and to lighter our toil.\n",
    "Science is a faithful servant of man. It serves us in all walks of life. It is our servant in the home, in the field and in the factory. Science has transformed our daily life. Gone are the days when only the rich men could afford luxuries. Science has made them cheap and has brought them within the reach of everybody. Science has produced goods on a large market. These are sold at cheap rates in every market. Books, music and all other forms of entertainment have been brought to our door. Radio, television, cinema help us in passing our time and also provide education to us.\n",
    "Science is our most faithful medical attendant. It shows every care for our health. Because of science we are cured of many diseases. It has given us the power to reduce epidemics. No longer are cholera, plague and small pox the scourge of mankind. Science has helped in reducing the death rate and has also enhanced the living age of humans.\n",
    "Science has reduced distance and made travelling a pleasure. Science has annihilated time and space. Trains roar through deserts, jungles and mountains while aeroplanes fly across thousands of kilometers in a matter of hours. The work of months and years can now be completed in hours.\n",
    "Science is the greatest blessing to the poor housewife. A thousand devices have been placed at her disposal to lighter her toil. There is electricity run kitchens in which cooking is pleasure. There is no dirt, no smoke and cooking with the help of gas and electricity can be done in the twinkling of an eye. Electricity helps her in washing and pressing clothes and even in cleaning floors.\n",
    "Science has provided us with computers and machines which have greatly increased our efficiency. We are better connected to people today and information is only a click of the mouse away. Man no longer needs to do the back breaking job of digging into mines with bare hands or tilling the soil with animals. Every factory is a standing tribute from the care and comforts that science has brought into our life.\n",
    "Science educates us in many ways. Large printing presses produce number of books at cheap rates. News is brought to us from every corner of the world through the newspaper, radios and television.\n",
    "However science has done a great disservice to mankind in the field of armaments. Weapons of mass destruction, nuclear weapons and sophisticated armament have endangered our lives and threaten to destroy the world. However it is upto us whether we will destroy our world or make is more beautiful and comfortable with the help of science.'''))"
   ]
  },
  {
   "cell_type": "code",
   "execution_count": 5,
   "metadata": {},
   "outputs": [
    {
     "ename": "ImportError",
     "evalue": "cannot import name 'TransformerSummarizer' from 'summarizer' (/home/vaibhav/anaconda3/lib/python3.8/site-packages/summarizer/__init__.py)",
     "output_type": "error",
     "traceback": [
      "\u001b[0;31m---------------------------------------------------------------------------\u001b[0m",
      "\u001b[0;31mImportError\u001b[0m                               Traceback (most recent call last)",
      "\u001b[0;32m<ipython-input-5-50eb34d690f4>\u001b[0m in \u001b[0;36m<module>\u001b[0;34m\u001b[0m\n\u001b[0;32m----> 1\u001b[0;31m \u001b[0;32mfrom\u001b[0m \u001b[0msummarizer\u001b[0m \u001b[0;32mimport\u001b[0m \u001b[0mTransformerSummarizer\u001b[0m\u001b[0;34m\u001b[0m\u001b[0;34m\u001b[0m\u001b[0m\n\u001b[0m",
      "\u001b[0;31mImportError\u001b[0m: cannot import name 'TransformerSummarizer' from 'summarizer' (/home/vaibhav/anaconda3/lib/python3.8/site-packages/summarizer/__init__.py)"
     ]
    }
   ],
   "source": [
    "from summarizer import TransformerSummarizer"
   ]
  },
  {
   "cell_type": "code",
   "execution_count": 9,
   "metadata": {},
   "outputs": [],
   "source": [
    "model=Summarizer()\n"
   ]
  },
  {
   "cell_type": "code",
   "execution_count": null,
   "metadata": {},
   "outputs": [],
   "source": []
  }
 ],
 "metadata": {
  "kernelspec": {
   "display_name": "Python 3",
   "language": "python",
   "name": "python3"
  },
  "language_info": {
   "codemirror_mode": {
    "name": "ipython",
    "version": 3
   },
   "file_extension": ".py",
   "mimetype": "text/x-python",
   "name": "python",
   "nbconvert_exporter": "python",
   "pygments_lexer": "ipython3",
   "version": "3.8.5"
  }
 },
 "nbformat": 4,
 "nbformat_minor": 4
}
